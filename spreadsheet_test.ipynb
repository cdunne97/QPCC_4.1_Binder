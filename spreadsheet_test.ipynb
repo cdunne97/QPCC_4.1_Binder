{
 "cells": [
  {
   "cell_type": "code",
   "execution_count": 1,
   "id": "20a2c863",
   "metadata": {},
   "outputs": [],
   "source": [
    "from qpcc import *"
   ]
  },
  {
   "cell_type": "markdown",
   "id": "9c3934d9",
   "metadata": {},
   "source": [
    "##### P1. How many classical bits are needed to represent all possible states of 3 qubits?\n",
    "<p>A. 3<br>\n",
    "B. 9 <br>\n",
    "C. 8</p>\n",
    "\n",
    "##### P2. What is the speedup of Grover's algorithm in comparison to classical counterparts?\n",
    "<p>A. Exponential<br>\n",
    "B. Quadratic <br>\n",
    "C. Logarithmic</p>\n",
    "\n",
    "##### P3. Which algorithm below is considered NISQ?\n",
    "<p>A. Grover<br>\n",
    "B. Shor <br>\n",
    "C. VQE</p>"
   ]
  },
  {
   "cell_type": "code",
   "execution_count": 3,
   "id": "4dc2fdfa",
   "metadata": {},
   "outputs": [
    {
     "name": "stdout",
     "output_type": "stream",
     "text": [
      "P1: Right 😎\n",
      "P2: Right 😎\n",
      "P3: Right 😎\n",
      "Loading...\n",
      "Submitted 🎉 👨🏻‍💻\n",
      "Grade:3/3\n"
     ]
    }
   ],
   "source": [
    "student_id = 'Venkatesh'\n",
    "answer = ['c','B','C']\n",
    "grading(student_id, ['P1','P2','P3'], answer)"
   ]
  },
  {
   "cell_type": "code",
   "execution_count": null,
   "id": "7db9f01d",
   "metadata": {},
   "outputs": [],
   "source": []
  }
 ],
 "metadata": {
  "kernelspec": {
   "display_name": "Python 3 (ipykernel)",
   "language": "python",
   "name": "python3"
  },
  "language_info": {
   "codemirror_mode": {
    "name": "ipython",
    "version": 3
   },
   "file_extension": ".py",
   "mimetype": "text/x-python",
   "name": "python",
   "nbconvert_exporter": "python",
   "pygments_lexer": "ipython3",
   "version": "3.9.8"
  }
 },
 "nbformat": 4,
 "nbformat_minor": 5
}
